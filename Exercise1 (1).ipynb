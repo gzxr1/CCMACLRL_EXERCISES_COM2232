{
  "nbformat": 4,
  "nbformat_minor": 0,
  "metadata": {
    "colab": {
      "provenance": []
    },
    "kernelspec": {
      "name": "python3",
      "display_name": "Python 3"
    },
    "language_info": {
      "name": "python"
    }
  },
  "cells": [
    {
      "cell_type": "code",
      "source": [
        "import pandas as pd\n",
        "import numpy as np\n",
        "\n",
        "# Set seed for reproducibility\n",
        "np.random.seed(42)\n",
        "\n",
        "# Generate realistic data\n",
        "names = [f\"Friend_{i}\" for i in range(100)]\n",
        "posts_frequently = np.random.randint(0, 11, size=100)         # Scale: 0–10\n",
        "active = np.random.randint(0, 11, size=100)                    # Scale: 0–10\n",
        "replies = np.random.randint(50, 101, size=100)                 # % responsiveness\n",
        "followers = np.random.randint(100, 10000, size=100)            # Number of followers\n",
        "\n",
        "# Simulate personality: extroverts tend to be more active and responsive\n",
        "personality = [\n",
        "    1 if (p + a + r/10 + f/1000) > 20 else 0\n",
        "    for p, a, r, f in zip(posts_frequently, active, replies, followers)\n",
        "]\n",
        "\n",
        "# Create DataFrame\n",
        "df = pd.DataFrame({\n",
        "    \"Name\": names,\n",
        "    \"Post/Shares Frequently\": posts_frequently,\n",
        "    \"Active\": active,\n",
        "    \"Replies to comments\": replies,\n",
        "    \"# of friends/followers\": followers,\n",
        "    \"Personality\": personality\n",
        "})\n",
        "\n",
        "# Save to CSV\n",
        "df.to_csv(\"personality_data.csv\", index=False)"
      ],
      "metadata": {
        "id": "d1sxO-RK2qg4"
      },
      "execution_count": 35,
      "outputs": []
    },
    {
      "cell_type": "code",
      "source": [
        "import pandas as pd\n",
        "import matplotlib.pyplot as plt\n",
        "\n",
        "# Load the CSV\n",
        "df = pd.read_csv(\"personality_data.csv\")\n",
        "\n",
        "# Display first 5 rows\n",
        "print(df.head())\n",
        "\n",
        "# Display summary\n",
        "print(df.info())\n",
        "\n",
        "# Count of each personality type\n",
        "print(df[\"Personality\"].value_counts())\n",
        "\n",
        "# Histogram of followers\n",
        "plt.hist(df[\"# of friends/followers\"], bins=10, color='skyblue', edgecolor='black')\n",
        "plt.xlabel(\"Followers\")\n",
        "plt.ylabel(\"Count\")\n",
        "plt.title(\"Distribution of Followers\")\n",
        "plt.show()\n",
        "\n",
        "# Drop the Name column\n",
        "df = df.drop(columns=[\"Name\"])"
      ],
      "metadata": {
        "colab": {
          "base_uri": "https://localhost:8080/",
          "height": 1000
        },
        "id": "TZoh2ZRR2tSB",
        "outputId": "625561da-35fb-4b0d-b504-d56fd7ace25c"
      },
      "execution_count": 36,
      "outputs": [
        {
          "output_type": "stream",
          "name": "stdout",
          "text": [
            "       Name  Post/Shares Frequently  Active  Replies to comments  \\\n",
            "0  Friend_0                       6       9                   68   \n",
            "1  Friend_1                       3       6                   51   \n",
            "2  Friend_2                      10       9                   93   \n",
            "3  Friend_3                       7       8                   75   \n",
            "4  Friend_4                       4       6                   81   \n",
            "\n",
            "   # of friends/followers  Personality  \n",
            "0                    4087            1  \n",
            "1                    9819            1  \n",
            "2                    6115            1  \n",
            "3                    1318            1  \n",
            "4                    4596            1  \n",
            "<class 'pandas.core.frame.DataFrame'>\n",
            "RangeIndex: 100 entries, 0 to 99\n",
            "Data columns (total 6 columns):\n",
            " #   Column                  Non-Null Count  Dtype \n",
            "---  ------                  --------------  ----- \n",
            " 0   Name                    100 non-null    object\n",
            " 1   Post/Shares Frequently  100 non-null    int64 \n",
            " 2   Active                  100 non-null    int64 \n",
            " 3   Replies to comments     100 non-null    int64 \n",
            " 4   # of friends/followers  100 non-null    int64 \n",
            " 5   Personality             100 non-null    int64 \n",
            "dtypes: int64(5), object(1)\n",
            "memory usage: 4.8+ KB\n",
            "None\n",
            "Personality\n",
            "1    63\n",
            "0    37\n",
            "Name: count, dtype: int64\n"
          ]
        },
        {
          "output_type": "display_data",
          "data": {
            "text/plain": [
              "<Figure size 640x480 with 1 Axes>"
            ],
            "image/png": "[encoded data removed]"
          },
          "metadata": {}
        }
      ]
    },
    {
      "cell_type": "code",
      "source": [
        "from sklearn.model_selection import train_test_split\n",
        "\n",
        "# Separate features and labels\n",
        "X = df.drop(columns=[\"Personality\"])\n",
        "y = df[\"Personality\"].values\n",
        "\n",
        "# Split into training and test sets\n",
        "X_train, X_test, y_train, y_test = train_test_split(X, y, test_size=0.2, random_state=42)\n",
        "\n",
        "# Display shapes\n",
        "print(\"X_train shape:\", X_train.shape)\n",
        "print(\"y_train shape:\", y_train.shape)\n",
        "print(\"X_test shape:\", X_test.shape)\n",
        "print(\"y_test shape:\", y_test.shape)"
      ],
      "metadata": {
        "colab": {
          "base_uri": "https://localhost:8080/"
        },
        "id": "6cJGqcgN2xv8",
        "outputId": "9270dd11-a446-425b-8249-104efe36deb8"
      },
      "execution_count": 37,
      "outputs": [
        {
          "output_type": "stream",
          "name": "stdout",
          "text": [
            "X_train shape: (80, 4)\n",
            "y_train shape: (80,)\n",
            "X_test shape: (20, 4)\n",
            "y_test shape: (20,)\n"
          ]
        }
      ]
    },
    {
      "cell_type": "code",
      "source": [
        "from sklearn.neighbors import KNeighborsClassifier\n",
        "\n",
        "# Create and train the model\n",
        "knn = KNeighborsClassifier(n_neighbors=5)\n",
        "knn.fit(X_train, y_train)\n",
        "\n",
        "# Predict on test set\n",
        "y_pred = knn.predict(X_test)"
      ],
      "metadata": {
        "id": "Wic_SFNk2y5a"
      },
      "execution_count": 39,
      "outputs": []
    },
    {
      "cell_type": "code",
      "source": [
        "from sklearn.metrics import accuracy_score, precision_score, recall_score, f1_score, confusion_matrix, ConfusionMatrixDisplay\n",
        "\n",
        "# Confusion matrix\n",
        "conf_matrix = confusion_matrix(y_test, y_pred)\n",
        "disp = ConfusionMatrixDisplay(confusion_matrix=conf_matrix, display_labels=knn.classes_)\n",
        "disp.plot()\n",
        "plt.show()\n",
        "\n",
        "# Metrics\n",
        "print(\"Accuracy:\", accuracy_score(y_test, y_pred))\n",
        "print(\"Precision:\", precision_score(y_test, y_pred, average=None))\n",
        "print(\"Recall:\", recall_score(y_test, y_pred, average=None))\n",
        "print(\"F1 Score:\", f1_score(y_test, y_pred, average=None))"
      ],
      "metadata": {
        "colab": {
          "base_uri": "https://localhost:8080/",
          "height": 524
        },
        "id": "kvrCIird22ik",
        "outputId": "42d027c9-f033-4c4c-aec5-8e8dab519c29"
      },
      "execution_count": 40,
      "outputs": [
        {
          "output_type": "display_data",
          "data": {
            "text/plain": [
              "<Figure size 640x480 with 2 Axes>"
            ],
            "image/png": "[encoded data removed]"
          },
          "metadata": {}
        },
        {
          "output_type": "stream",
          "name": "stdout",
          "text": [
            "Accuracy: 0.55\n",
            "Precision: [0.36363636 0.77777778]\n",
            "Recall: [0.66666667 0.5       ]\n",
            "F1 Score: [0.47058824 0.60869565]\n"
          ]
        }
      ]
    },
    {
      "cell_type": "code",
      "source": [
        "# Example input: [Posts Frequently, Active, Replies %, Followers]\n",
        "new_data = pd.DataFrame([[7, 8, 90, 3000]], columns=X.columns)\n",
        "prediction = knn.predict(new_data)\n",
        "print(\"Predicted Personality:\", \"Extrovert\" if prediction[0] == 1 else \"Introvert\")"
      ],
      "metadata": {
        "colab": {
          "base_uri": "https://localhost:8080/"
        },
        "id": "xTgIV4Tl25AE",
        "outputId": "f8cbd1f2-f4b5-407d-983a-21185ba50445"
      },
      "execution_count": 41,
      "outputs": [
        {
          "output_type": "stream",
          "name": "stdout",
          "text": [
            "Predicted Personality: Introvert\n"
          ]
        }
      ]
    }
  ]
}