{
  "nbformat": 4,
  "nbformat_minor": 0,
  "metadata": {
    "colab": {
      "provenance": []
    },
    "kernelspec": {
      "name": "python3",
      "display_name": "Python 3"
    },
    "language_info": {
      "name": "python"
    }
  },
  "cells": [
    {
      "cell_type": "code",
      "source": [
        "import pandas as pd\n",
        "import matplotlib.pyplot as plt\n",
        "from sklearn.model_selection import train_test_split\n",
        "from sklearn.neighbors import KNeighborsClassifier\n",
        "from sklearn.metrics import accuracy_score, precision_score, recall_score, f1_score, confusion_matrix, classification_report"
      ],
      "metadata": {
        "id": "r2bAjOCdTtEV"
      },
      "execution_count": 22,
      "outputs": []
    },
    {
      "cell_type": "code",
      "source": [
        "# Create a mock dataset\n",
        "data = {\n",
        "    'name': ['Alice', 'Bob', 'Charlie', 'Diana', 'Ethan', 'Faye', 'George', 'Hannah', 'Ian', 'Jade'],\n",
        "    'followers': [120, 340, 560, 230, 150, 670, 480, 300, 90, 410],\n",
        "    'likes': [30, 80, 120, 50, 40, 150, 100, 70, 20, 110],\n",
        "    'posts': [10, 25, 40, 15, 12, 50, 35, 20, 8, 30],\n",
        "    'personality_type': ['introvert', 'extrovert', 'extrovert', 'introvert', 'introvert',\n",
        "                         'extrovert', 'extrovert', 'introvert', 'introvert', 'extrovert']\n",
        "}\n",
        "\n",
        "df = pd.DataFrame(data)\n",
        "\n",
        "# Display the first 5 rows\n",
        "print(df.head())\n",
        "\n",
        "# Display summary of all features\n",
        "print(df.info())\n",
        "\n",
        "# Display total number of samples from each label\n",
        "print(df['personality_type'].value_counts())\n",
        "\n",
        "# Histogram of followers\n",
        "plt.hist(df['followers'], bins=5)\n",
        "plt.xlabel('Number of Followers')\n",
        "plt.ylabel('Number of Samples')\n",
        "plt.title('Distribution of Followers')\n",
        "plt.show()\n",
        "\n",
        "# Remove the name column\n",
        "df = df.drop(columns=['name'])"
      ],
      "metadata": {
        "colab": {
          "base_uri": "https://localhost:8080/",
          "height": 871
        },
        "id": "Bw95ivceTu_9",
        "outputId": "a2eeebc6-256b-4bc5-e207-f4bccf1c5bb0"
      },
      "execution_count": 24,
      "outputs": [
        {
          "output_type": "stream",
          "name": "stdout",
          "text": [
            "      name  followers  likes  posts personality_type\n",
            "0    Alice        120     30     10        introvert\n",
            "1      Bob        340     80     25        extrovert\n",
            "2  Charlie        560    120     40        extrovert\n",
            "3    Diana        230     50     15        introvert\n",
            "4    Ethan        150     40     12        introvert\n",
            "<class 'pandas.core.frame.DataFrame'>\n",
            "RangeIndex: 10 entries, 0 to 9\n",
            "Data columns (total 5 columns):\n",
            " #   Column            Non-Null Count  Dtype \n",
            "---  ------            --------------  ----- \n",
            " 0   name              10 non-null     object\n",
            " 1   followers         10 non-null     int64 \n",
            " 2   likes             10 non-null     int64 \n",
            " 3   posts             10 non-null     int64 \n",
            " 4   personality_type  10 non-null     object\n",
            "dtypes: int64(3), object(2)\n",
            "memory usage: 532.0+ bytes\n",
            "None\n",
            "personality_type\n",
            "introvert    5\n",
            "extrovert    5\n",
            "Name: count, dtype: int64\n"
          ]
        },
        {
          "output_type": "display_data",
          "data": {
            "text/plain": [
              "<Figure size 640x480 with 1 Axes>"
            ],
            "image/png": "[encoded data removed]"
          },
          "metadata": {}
        }
      ]
    },
    {
      "cell_type": "code",
      "source": [
        "# Convert features into a numpy array\n",
        "X = df[['followers', 'likes', 'posts']].values\n",
        "\n",
        "# Convert labels into a numpy array\n",
        "y = df['personality_type'].values\n",
        "\n",
        "# Split the data into training and test sets\n",
        "X_train, X_test, y_train, y_test = train_test_split(X, y, test_size=0.3, random_state=42)\n",
        "\n",
        "# Display the dimensions of each variable\n",
        "print(\"X_train shape:\", X_train.shape)\n",
        "print(\"X_test shape:\", X_test.shape)\n",
        "print(\"y_train shape:\", y_train.shape)\n",
        "print(\"y_test shape:\", y_test.shape)"
      ],
      "metadata": {
        "colab": {
          "base_uri": "https://localhost:8080/"
        },
        "id": "yEz0oveMT3ab",
        "outputId": "9b600764-c183-4c4c-a4fe-2808b5309a96"
      },
      "execution_count": 25,
      "outputs": [
        {
          "output_type": "stream",
          "name": "stdout",
          "text": [
            "X_train shape: (7, 3)\n",
            "X_test shape: (3, 3)\n",
            "y_train shape: (7,)\n",
            "y_test shape: (3,)\n"
          ]
        }
      ]
    },
    {
      "cell_type": "code",
      "source": [
        "# Create the KNN classifier\n",
        "knn = KNeighborsClassifier(n_neighbors=3)\n",
        "\n",
        "# Train the model\n",
        "knn.fit(X_train, y_train)\n",
        "\n",
        "# Predict on the test set\n",
        "y_pred = knn.predict(X_test)"
      ],
      "metadata": {
        "id": "ezDXBmkAT7-T"
      },
      "execution_count": 29,
      "outputs": []
    },
    {
      "cell_type": "code",
      "source": [
        "# Confusion matrix\n",
        "print(\"Confusion Matrix:\")\n",
        "print(confusion_matrix(y_test, y_pred))\n",
        "\n",
        "# Accuracy\n",
        "print(\"Accuracy:\", accuracy_score(y_test, y_pred))\n",
        "\n",
        "# Precision\n",
        "print(\"Precision:\", precision_score(y_test, y_pred, pos_label='extrovert'))\n",
        "\n",
        "# Recall\n",
        "print(\"Recall:\", recall_score(y_test, y_pred, pos_label='extrovert'))\n",
        "\n",
        "# F1 Score\n",
        "print(\"F1 Score:\", f1_score(y_test, y_pred, pos_label='extrovert'))\n",
        "\n",
        "# Full classification report\n",
        "print(\"\\nClassification Report:\")\n",
        "print(classification_report(y_test, y_pred))"
      ],
      "metadata": {
        "colab": {
          "base_uri": "https://localhost:8080/"
        },
        "id": "Ee1cHFcSUNGg",
        "outputId": "1b6bf0fe-28b9-4942-8a26-d13b52948a06"
      },
      "execution_count": 30,
      "outputs": [
        {
          "output_type": "stream",
          "name": "stdout",
          "text": [
            "Confusion Matrix:\n",
            "[[1 1]\n",
            " [0 1]]\n",
            "Accuracy: 0.6666666666666666\n",
            "Precision: 1.0\n",
            "Recall: 0.5\n",
            "F1 Score: 0.6666666666666666\n",
            "\n",
            "Classification Report:\n",
            "              precision    recall  f1-score   support\n",
            "\n",
            "   extrovert       1.00      0.50      0.67         2\n",
            "   introvert       0.50      1.00      0.67         1\n",
            "\n",
            "    accuracy                           0.67         3\n",
            "   macro avg       0.75      0.75      0.67         3\n",
            "weighted avg       0.83      0.67      0.67         3\n",
            "\n"
          ]
        }
      ]
    },
    {
      "cell_type": "code",
      "source": [
        "# Enter your own features: [followers, likes, posts]\n",
        "my_features = [[250, 60, 18]]  # ← You can change these numbers to match your own style\n",
        "\n",
        "# Predict using the trained model\n",
        "my_prediction = knn.predict(my_features)\n",
        "\n",
        "# Display the result\n",
        "print(\"Predicted Personality Type:\", my_prediction[0])"
      ],
      "metadata": {
        "colab": {
          "base_uri": "https://localhost:8080/"
        },
        "id": "5D3K69kGUOGs",
        "outputId": "98e98dba-cb3d-4716-844b-519ddf05323b"
      },
      "execution_count": 31,
      "outputs": [
        {
          "output_type": "stream",
          "name": "stdout",
          "text": [
            "Predicted Personality Type: introvert\n"
          ]
        }
      ]
    }
  ]
}