{
  "nbformat": 4,
  "nbformat_minor": 0,
  "metadata": {
    "colab": {
      "provenance": []
    },
    "kernelspec": {
      "name": "python3",
      "display_name": "Python 3"
    },
    "language_info": {
      "name": "python"
    }
  },
  "cells": [
    {
      "cell_type": "code",
      "execution_count": null,
      "metadata": {
        "colab": {
          "base_uri": "https://localhost:8080/"
        },
        "id": "pMnj2Z0g_7oW",
        "outputId": "d6745e60-c1b6-4984-cf40-4aa3265712c7"
      },
      "outputs": [
        {
          "output_type": "stream",
          "name": "stdout",
          "text": [
            "Student\tX\tY\tXY\tX²\n",
            "1\t1\t52\t52\t1\n",
            "2\t2\t57\t114\t4\n",
            "3\t3\t61\t183\t9\n",
            "4\t4\t65\t260\t16\n",
            "5\t5\t70\t350\t25\n",
            "\n",
            "Σx = 15, Σy = 305, Σxy = 959, Σx² = 55\n"
          ]
        }
      ],
      "source": [
        "# Data: Hours Studied (x) and Exam Scores (y)\n",
        "x = [1, 2, 3, 4, 5]\n",
        "y = [52, 57, 61, 65, 70]\n",
        "n = len(x)\n",
        "\n",
        "# Compute x² and xy\n",
        "x_squared = [i**2 for i in x]\n",
        "xy = [x[i] * y[i] for i in range(n)]\n",
        "\n",
        "# Totals\n",
        "sum_x = sum(x)\n",
        "sum_y = sum(y)\n",
        "sum_x_squared = sum(x_squared)\n",
        "sum_xy = sum(xy)\n",
        "\n",
        "# Display table\n",
        "print(\"Student\\tX\\tY\\tXY\\tX²\")\n",
        "for i in range(n):\n",
        "    print(f\"{i+1}\\t{x[i]}\\t{y[i]}\\t{xy[i]}\\t{x_squared[i]}\")\n",
        "print(f\"\\nΣx = {sum_x}, Σy = {sum_y}, Σxy = {sum_xy}, Σx² = {sum_x_squared}\")"
      ]
    },
    {
      "cell_type": "code",
      "source": [
        "# Compute slope (m)\n",
        "m = (n * sum_xy - sum_x * sum_y) / (n * sum_x_squared - sum_x**2)\n",
        "m = round(m, 2)\n",
        "print(\"Slope (m):\", m)"
      ],
      "metadata": {
        "colab": {
          "base_uri": "https://localhost:8080/"
        },
        "id": "W86C9r0bC31b",
        "outputId": "570efc61-b5b1-4fec-ba94-161a7e982c50"
      },
      "execution_count": null,
      "outputs": [
        {
          "output_type": "stream",
          "name": "stdout",
          "text": [
            "Slope (m): 4.4\n"
          ]
        }
      ]
    },
    {
      "cell_type": "code",
      "source": [
        "# Compute intercept (b)\n",
        "b = (sum_y - m * sum_x) / n\n",
        "b = round(b, 2)\n",
        "print(\"Intercept (b):\", b)"
      ],
      "metadata": {
        "colab": {
          "base_uri": "https://localhost:8080/"
        },
        "id": "Yb2iAU0pC5BE",
        "outputId": "a66ce101-2dcf-4497-cde8-90016823dafe"
      },
      "execution_count": null,
      "outputs": [
        {
          "output_type": "stream",
          "name": "stdout",
          "text": [
            "Intercept (b): 47.8\n"
          ]
        }
      ]
    },
    {
      "cell_type": "code",
      "source": [
        "print(f\"Regression Equation: y = {m}x + {b}\")"
      ],
      "metadata": {
        "colab": {
          "base_uri": "https://localhost:8080/"
        },
        "id": "pw1onzmGDBjH",
        "outputId": "12d26c22-2946-4d63-e28b-7751b4838931"
      },
      "execution_count": null,
      "outputs": [
        {
          "output_type": "stream",
          "name": "stdout",
          "text": [
            "Regression Equation: y = 4.4x + 47.8\n"
          ]
        }
      ]
    },
    {
      "cell_type": "code",
      "source": [
        "import matplotlib.pyplot as plt\n",
        "\n",
        "# Predicted scores using the regression equation\n",
        "y_pred = [round(m * xi + b, 2) for xi in x]\n",
        "\n",
        "# Display table of predictions\n",
        "print(\"Student\\tX\\tY\\tY_pred\")\n",
        "for i in range(n):\n",
        "    print(f\"{i+1}\\t{x[i]}\\t{y[i]}\\t{y_pred[i]}\")\n",
        "\n",
        "# Plot actual scores and regression line\n",
        "plt.figure(figsize=(8, 6))\n",
        "plt.scatter(x, y, color='blue', marker='o', label='Actual Scores')  # 🔵\n",
        "plt.plot(x, y_pred, color='red', label='Regression Line')  # Red line\n",
        "\n",
        "plt.xlabel('Hours Studied')\n",
        "plt.ylabel('Exam Score')\n",
        "plt.title('Linear Regression: Exam Score Prediction')\n",
        "plt.legend()\n",
        "plt.grid(True)\n",
        "plt.show()"
      ],
      "metadata": {
        "colab": {
          "base_uri": "https://localhost:8080/",
          "height": 668
        },
        "id": "9cMvx2d3DHPw",
        "outputId": "00c08f79-e74f-4fe9-88e6-7e16e6401f6b"
      },
      "execution_count": null,
      "outputs": [
        {
          "output_type": "stream",
          "name": "stdout",
          "text": [
            "Student\tX\tY\tY_pred\n",
            "1\t1\t52\t52.2\n",
            "2\t2\t57\t56.6\n",
            "3\t3\t61\t61.0\n",
            "4\t4\t65\t65.4\n",
            "5\t5\t70\t69.8\n"
          ]
        },
        {
          "output_type": "display_data",
          "data": {
            "text/plain": [
              "<Figure size 800x600 with 1 Axes>"
            ],
            "image/png": "[encoded data removed]"
          },
          "metadata": {}
        }
      ]
    },
    {
      "cell_type": "code",
      "source": [
        "# Calculate errors and squared errors\n",
        "errors = [y[i] - y_pred[i] for i in range(n)]\n",
        "squared_errors = [round(e**2, 2) for e in errors]\n",
        "sse = round(sum(squared_errors), 2)\n",
        "\n",
        "# Display table\n",
        "print(\"Student\\tX\\tY\\tY_pred\\tY-Y_pred\\t(Y-Y_pred)²\")\n",
        "for i in range(n):\n",
        "    print(f\"{i+1}\\t{x[i]}\\t{y[i]}\\t{y_pred[i]}\\t{round(errors[i],2)}\\t\\t{squared_errors[i]}\")\n",
        "print(f\"\\nSSE = {sse}\")"
      ],
      "metadata": {
        "colab": {
          "base_uri": "https://localhost:8080/"
        },
        "id": "kxH-qkecDNQZ",
        "outputId": "f90b0029-5a4e-4803-b3b1-d61ad60f489a"
      },
      "execution_count": null,
      "outputs": [
        {
          "output_type": "stream",
          "name": "stdout",
          "text": [
            "Student\tX\tY\tY_pred\tY-Y_pred\t(Y-Y_pred)²\n",
            "1\t1\t52\t52.2\t-0.2\t\t0.04\n",
            "2\t2\t57\t56.6\t0.4\t\t0.16\n",
            "3\t3\t61\t61.0\t0.0\t\t0.0\n",
            "4\t4\t65\t65.4\t-0.4\t\t0.16\n",
            "5\t5\t70\t69.8\t0.2\t\t0.04\n",
            "\n",
            "SSE = 0.4\n"
          ]
        }
      ]
    },
    {
      "cell_type": "code",
      "source": [
        "# Mean of actual scores\n",
        "y_mean = sum_y / n\n",
        "\n",
        "# Calculate SST\n",
        "squared_total = [round((y[i] - y_mean)**2, 2) for i in range(n)]\n",
        "sst = round(sum(squared_total), 2)\n",
        "\n",
        "# Display table\n",
        "print(\"Student\\tX\\tY\\tȲ\\tY-Ȳ\\t(Y-Ȳ)²\")\n",
        "for i in range(n):\n",
        "    print(f\"{i+1}\\t{x[i]}\\t{y[i]}\\t{round(y_mean,2)}\\t{round(y[i]-y_mean,2)}\\t{squared_total[i]}\")\n",
        "print(f\"\\nSST = {sst}\")"
      ],
      "metadata": {
        "colab": {
          "base_uri": "https://localhost:8080/"
        },
        "id": "Ld7QgsWaDSea",
        "outputId": "bc6874e5-9ee4-4ac8-8c25-481cad815a57"
      },
      "execution_count": null,
      "outputs": [
        {
          "output_type": "stream",
          "name": "stdout",
          "text": [
            "Student\tX\tY\tȲ\tY-Ȳ\t(Y-Ȳ)²\n",
            "1\t1\t52\t61.0\t-9.0\t81.0\n",
            "2\t2\t57\t61.0\t-4.0\t16.0\n",
            "3\t3\t61\t61.0\t0.0\t0.0\n",
            "4\t4\t65\t61.0\t4.0\t16.0\n",
            "5\t5\t70\t61.0\t9.0\t81.0\n",
            "\n",
            "SST = 194.0\n"
          ]
        }
      ]
    },
    {
      "cell_type": "code",
      "source": [
        "# Compute R²\n",
        "r_squared = round(1 - (sse / sst), 4)\n",
        "print(\"R² =\", r_squared)"
      ],
      "metadata": {
        "colab": {
          "base_uri": "https://localhost:8080/"
        },
        "id": "ODZSyhiWDWb9",
        "outputId": "74491f81-b205-4773-fd5a-ee1d0ea98735"
      },
      "execution_count": null,
      "outputs": [
        {
          "output_type": "stream",
          "name": "stdout",
          "text": [
            "R² = 0.9979\n"
          ]
        }
      ]
    }
  ]
}